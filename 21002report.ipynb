{
  "cells": [
    {
      "cell_type": "markdown",
      "metadata": {
        "id": "view-in-github",
        "colab_type": "text"
      },
      "source": [
        "<a href=\"https://colab.research.google.com/github/11335184/HOUSE/blob/main/21002report.ipynb\" target=\"_parent\"><img src=\"https://colab.research.google.com/assets/colab-badge.svg\" alt=\"Open In Colab\"/></a>"
      ]
    },
    {
      "cell_type": "markdown",
      "id": "98a91f22-4e7b-41d8-a743-66dd4d784bbd",
      "metadata": {
        "id": "98a91f22-4e7b-41d8-a743-66dd4d784bbd"
      },
      "source": [
        "# 完成以下步驟，即可做出散佈圖\n",
        "\n",
        "### 之後地科還會用到，記不起來沒關係，可以參照textbook.ipynb的過程"
      ]
    },
    {
      "cell_type": "markdown",
      "id": "2082921a-2199-4690-af61-fc6b54943ff1",
      "metadata": {
        "id": "2082921a-2199-4690-af61-fc6b54943ff1"
      },
      "source": [
        "## step 1 匯入函式庫"
      ]
    },
    {
      "cell_type": "code",
      "execution_count": 25,
      "id": "4d605c48-461f-4f74-8332-b5814ebc1dae",
      "metadata": {
        "id": "4d605c48-461f-4f74-8332-b5814ebc1dae"
      },
      "outputs": [],
      "source": [
        "import numpy as np"
      ]
    },
    {
      "cell_type": "markdown",
      "id": "d7042a84-b4bd-48ee-bb05-10788de169fa",
      "metadata": {
        "id": "d7042a84-b4bd-48ee-bb05-10788de169fa"
      },
      "source": [
        "## step 2 宣告兩個numpy陣列的變數，分別為x數據與y數據\n",
        "\n",
        "### <font color=#ff00ff> 注意 : y數據的shape應為(8,6) </font>"
      ]
    },
    {
      "cell_type": "code",
      "execution_count": 26,
      "id": "183b3d90-aa56-4094-9cf8-5956cb73fdb3",
      "metadata": {
        "colab": {
          "base_uri": "https://localhost:8080/"
        },
        "id": "183b3d90-aa56-4094-9cf8-5956cb73fdb3",
        "outputId": "fe8d8248-a3ae-4748-c79f-361eef3565b7"
      },
      "outputs": [
        {
          "output_type": "stream",
          "name": "stdout",
          "text": [
            "x.shape = (10,)\n",
            "y.shape = (10, 8)\n"
          ]
        }
      ],
      "source": [
        "x = np.array([49.5,49,48.5,48,47.5,-49.5,-49,-48.5,-48,-47.5])        # shape = (10,)\n",
        "y = np.array([\n",
        "    [17.5,14.5,15,14,14,16,12.5,14],\n",
        "    [24,22.5,23.3,23,24,22,22,22],\n",
        "    [30.5,32.5,31.5,31,34,27.5,26,25],\n",
        "    [32,34,35,34.5,35,33.5,33.5,32],\n",
        "    [36,36,35,36,37,39,37,38],\n",
        "    [25.5,28.5,24,26.5,27,27.5,27,27],\n",
        "    [33.5,32.5,32,33,31,32,30.5,30],\n",
        "    [38,37.5,36,37.5,37,38,37,36],\n",
        "    [56,56,59,57,58,56.5,55,58],\n",
        "    [64,66,66.5,64,65.2,66,65,64.5]\n",
        "])  # shape = (10, 8)\n",
        "print(\"x.shape =\", x.shape)  # (10,)\n",
        "print(\"y.shape =\", y.shape)  # (10,8)"
      ]
    },
    {
      "cell_type": "markdown",
      "id": "17899d87-ca85-4a67-845c-83fd64f3096d",
      "metadata": {
        "id": "17899d87-ca85-4a67-845c-83fd64f3096d"
      },
      "source": [
        "## step 3 宣告兩個變數，分別為y數據的平均與標準差"
      ]
    },
    {
      "cell_type": "code",
      "execution_count": 27,
      "id": "d3136e4f-4b3d-4740-b3ef-47cbf392e28b",
      "metadata": {
        "id": "d3136e4f-4b3d-4740-b3ef-47cbf392e28b"
      },
      "outputs": [],
      "source": [
        "# Step 3: 計算 y 數據的平均與標準差\n",
        "y_mean = np.mean(y)\n",
        "y_std = np.std(y)"
      ]
    },
    {
      "cell_type": "markdown",
      "id": "63d7d1bc-421e-4e08-ba61-0cf870169867",
      "metadata": {
        "id": "63d7d1bc-421e-4e08-ba61-0cf870169867"
      },
      "source": [
        "## step 4 繪製散佈圖與誤差棒 (Error Bar)"
      ]
    },
    {
      "cell_type": "code",
      "execution_count": 28,
      "id": "14e4695c-fd2b-422a-b178-c2bfebe9ead6",
      "metadata": {
        "colab": {
          "base_uri": "https://localhost:8080/",
          "height": 487
        },
        "id": "14e4695c-fd2b-422a-b178-c2bfebe9ead6",
        "outputId": "164c8696-cc62-4a01-f2e9-1238a14aa621"
      },
      "outputs": [
        {
          "output_type": "display_data",
          "data": {
            "text/plain": [
              "<Figure size 800x500 with 1 Axes>"
            ],
            "image/png": "[encoded data removed]"
          },
          "metadata": {}
        }
      ],
      "source": [
        "import matplotlib.pyplot as plt\n",
        "\n",
        "# Step 4: 計算每一列的平均與標準差（對應每個 x 值）\n",
        "row_mean = np.mean(y, axis=1)\n",
        "row_std = np.std(y, axis=1)\n",
        "\n",
        "# 繪製散佈圖與誤差棒\n",
        "plt.figure(figsize=(8, 5))\n",
        "plt.errorbar(x, row_mean, yerr=row_std, fmt='o', capsize=5, label='Mean ± Std Dev')\n",
        "\n",
        "plt.title(\"Scatter Plot with Error Bars\")\n",
        "plt.xlabel(\"x\")\n",
        "plt.ylabel(\"y (mean ± std)\")\n",
        "plt.grid(True)\n",
        "plt.legend()\n",
        "plt.show()"
      ]
    },
    {
      "cell_type": "markdown",
      "id": "da976a02-fe8c-44e0-b334-c805edd14725",
      "metadata": {
        "id": "da976a02-fe8c-44e0-b334-c805edd14725"
      },
      "source": [
        "## step 5 觀察散佈圖比較像哪一個方程式，並用註解的方式輸入在下面空格中\n",
        "\n",
        "1. 多項式( y = ax**2 + bx + c )\n",
        "2. 指數(y = e**x + c)\n",
        "3. 對數(y = ln(x) + c)\n",
        "4. 數學課學過的方程式"
      ]
    },
    {
      "cell_type": "code",
      "execution_count": 29,
      "id": "ad02dc73-fe8f-4166-a24c-da213c6c8d6e",
      "metadata": {
        "id": "ad02dc73-fe8f-4166-a24c-da213c6c8d6e"
      },
      "outputs": [],
      "source": [
        "# 根據散佈圖的形狀，這些數據似乎更符合二次方程式 (y = ax^2 + bx + c)，\n",
        "# 這是因為數據顯示出對稱的波動，這是二次曲線的典型特徵。\n"
      ]
    },
    {
      "cell_type": "markdown",
      "id": "7442ebc3-c2ee-4d98-aac3-0fe835bb7902",
      "metadata": {
        "id": "7442ebc3-c2ee-4d98-aac3-0fe835bb7902"
      },
      "source": [
        "## step 6 根據你們決定的方程式，改寫以下矩陣中的G、d 於下一格中\n",
        "\n",
        "### 如果你們的方程式是 $ y = m_0+m_1 x $\n",
        "\n",
        "### 則 m、G、d 為\n",
        "\n",
        "$$ \\mathbf G  = \\begin{bmatrix} 1 & x_1 \\\\ 1 & x_2  \\\\ \\vdots  & \\vdots \\\\ 1 & x_n  \\end{bmatrix},\n",
        "\\mathbf m= \\begin{bmatrix} m_0\\\\ m_1 \\end{bmatrix}, \\mathbf d  = \\begin{bmatrix} y_1\\\\ y_2 \\\\ \\vdots \\\\ y_n  \\end{bmatrix}$$\n",
        "\n",
        "### 請依照上述規矩改寫"
      ]
    },
    {
      "cell_type": "code",
      "execution_count": 30,
      "id": "47ca4123-e3a4-47a3-a839-e83c17ca989b",
      "metadata": {
        "colab": {
          "base_uri": "https://localhost:8080/"
        },
        "id": "47ca4123-e3a4-47a3-a839-e83c17ca989b",
        "outputId": "ab366600-1595-4027-afdd-d19858fef791"
      },
      "outputs": [
        {
          "output_type": "stream",
          "name": "stdout",
          "text": [
            "設計矩陣 G:\n",
            "[[  1.   49.5]\n",
            " [  1.   49. ]\n",
            " [  1.   48.5]\n",
            " [  1.   48. ]\n",
            " [  1.   47.5]\n",
            " [  1.  -49.5]\n",
            " [  1.  -49. ]\n",
            " [  1.  -48.5]\n",
            " [  1.  -48. ]\n",
            " [  1.  -47.5]]\n",
            "\n",
            "資料向量 d:\n",
            "[14.6875 22.85   29.75   33.6875 36.75   26.625  31.8125 37.125  56.9375\n",
            " 65.15  ]\n",
            "\n",
            "求得的參數 m:\n",
            "[35.5375     -0.16375545]\n",
            "\n",
            "m0 = 35.54, m1 = -0.16\n"
          ]
        }
      ],
      "source": [
        "# Step 6: 建立 G、d\n",
        "G = np.column_stack((np.ones_like(x), x))  # G = [1, x]\n",
        "d = row_mean  # y 平均值向量\n",
        "\n",
        "# 用最小平方法解 m\n",
        "# m = (G^T G)^-1 G^T d\n",
        "m = np.linalg.inv(G.T @ G) @ G.T @ d\n",
        "\n",
        "# 輸出結果\n",
        "print(\"設計矩陣 G:\")\n",
        "print(G)\n",
        "print(\"\\n資料向量 d:\")\n",
        "print(d)\n",
        "print(\"\\n求得的參數 m:\")\n",
        "print(m)\n",
        "print(f\"\\nm0 = {m[0]:.2f}, m1 = {m[1]:.2f}\")"
      ]
    },
    {
      "cell_type": "markdown",
      "id": "05c33eb9-1993-4c7b-9744-5d69c9cecc91",
      "metadata": {
        "id": "05c33eb9-1993-4c7b-9744-5d69c9cecc91"
      },
      "source": [
        "## step 7 算出矩陣 m\n",
        "\n",
        "### 提示 $ \\mathbf m = [\\mathbf G^{\\mathbf T}\\mathbf G]^{-1}\\mathbf G^{\\mathbf T}\\mathbf d  $"
      ]
    },
    {
      "cell_type": "code",
      "execution_count": 34,
      "id": "e79a23eb-0242-4e05-8d99-bf9b0da43578",
      "metadata": {
        "colab": {
          "base_uri": "https://localhost:8080/"
        },
        "id": "e79a23eb-0242-4e05-8d99-bf9b0da43578",
        "outputId": "b8871dc2-12ef-4ace-c536-63eb661b560e"
      },
      "outputs": [
        {
          "output_type": "stream",
          "name": "stdout",
          "text": [
            "計算出的參數 m： [35.5375     -0.16375545]\n",
            "m0 = 35.5375, m1 = -0.1638\n"
          ]
        }
      ],
      "source": [
        "# Step 7: 根據 m = (G^T G)^(-1) G^T d 計算參數 m\n",
        "\n",
        "import numpy as np\n",
        "\n",
        "# 假設你已經有 G 和 d\n",
        "# 例如從前面步驟拿到的 G 和 d：\n",
        "# G 是設計矩陣，d 是 y 的平均值（row_mean）\n",
        "\n",
        "# 這邊為了示範，我直接寫出 G 和 d，請用你自己的值替換\n",
        "x = np.array([49.5,49,48.5,48,47.5,-49.5,-49,-48.5,-48,-47.5])\n",
        "row_mean = np.array([14.6875,22.85,29.75,33.6875,36.75,26.625,31.8125,37.125,56.9375,65.15])\n",
        "\n",
        "G = np.column_stack((np.ones_like(x), x))  # 建立 G\n",
        "d = row_mean  # 建立 d\n",
        "\n",
        "# 計算 m\n",
        "GT = G.T\n",
        "GTG = GT @ G\n",
        "GTd = GT @ d\n",
        "GTG_inv = np.linalg.inv(GTG)\n",
        "m = GTG_inv @ GTd\n",
        "\n",
        "print(\"計算出的參數 m：\", m)\n",
        "print(f\"m0 = {m[0]:.4f}, m1 = {m[1]:.4f}\")"
      ]
    },
    {
      "cell_type": "markdown",
      "id": "59d022e4-c32d-4b24-9777-37a79191c026",
      "metadata": {
        "id": "59d022e4-c32d-4b24-9777-37a79191c026"
      },
      "source": [
        "## step 8 算出經由最適直線預測出操縱變因理應測量到的值，並將其存為一個變數"
      ]
    },
    {
      "cell_type": "code",
      "execution_count": 35,
      "id": "2fc50269-e418-4283-8a94-cdf81a076224",
      "metadata": {
        "colab": {
          "base_uri": "https://localhost:8080/"
        },
        "id": "2fc50269-e418-4283-8a94-cdf81a076224",
        "outputId": "3ab6741e-e988-4374-89e8-bb28e87e2e0c"
      },
      "outputs": [
        {
          "output_type": "stream",
          "name": "stdout",
          "text": [
            "預測的 y 值： [27.43160544 27.51348316 27.59536088 27.6772386  27.75911633 43.64339456\n",
            " 43.56151684 43.47963912 43.3977614  43.31588367]\n"
          ]
        }
      ],
      "source": [
        "# 假設已經有 m 與 x\n",
        "\n",
        "# 預測值\n",
        "y_pred = m[0] + m[1] * x\n",
        "\n",
        "print(\"預測的 y 值：\", y_pred)"
      ]
    },
    {
      "cell_type": "markdown",
      "id": "bd721137-72d7-4d96-b295-1ae118ae193f",
      "metadata": {
        "id": "bd721137-72d7-4d96-b295-1ae118ae193f"
      },
      "source": [
        "## step 9 算出相關係數 $ R^2 $ ，並存為一個變數"
      ]
    },
    {
      "cell_type": "code",
      "execution_count": 36,
      "id": "c1be44c0-fbe1-4afb-a840-d82fa73c250c",
      "metadata": {
        "colab": {
          "base_uri": "https://localhost:8080/"
        },
        "id": "c1be44c0-fbe1-4afb-a840-d82fa73c250c",
        "outputId": "217859f3-fb1a-4220-ecf3-5274bc09f97e"
      },
      "outputs": [
        {
          "output_type": "stream",
          "name": "stdout",
          "text": [
            "R^2 = 0.3056\n"
          ]
        }
      ],
      "source": [
        "# y 實際值（平均值）\n",
        "y_true = row_mean\n",
        "\n",
        "# y 預測值 (Step 8)\n",
        "y_pred = m[0] + m[1] * x\n",
        "\n",
        "# 計算殘差平方和（RSS）\n",
        "rss = np.sum((y_true - y_pred)**2)\n",
        "\n",
        "# 計算總平方和（TSS）\n",
        "tss = np.sum((y_true - np.mean(y_true))**2)\n",
        "\n",
        "# 計算 R^2\n",
        "R2 = 1 - rss / tss\n",
        "\n",
        "print(f\"R^2 = {R2:.4f}\")"
      ]
    },
    {
      "cell_type": "markdown",
      "id": "46d8b981-5a46-43cc-ad20-5512df75db6c",
      "metadata": {
        "id": "46d8b981-5a46-43cc-ad20-5512df75db6c"
      },
      "source": [
        "## step 10 將回歸直線與相關係數呈現在新的散佈圖上，並儲存成png檔案"
      ]
    },
    {
      "cell_type": "code",
      "execution_count": 38,
      "id": "54665b5a-727a-4a95-b9da-5beaea8f08ec",
      "metadata": {
        "colab": {
          "base_uri": "https://localhost:8080/",
          "height": 1000
        },
        "id": "54665b5a-727a-4a95-b9da-5beaea8f08ec",
        "outputId": "931a2499-6867-4b8c-caf0-2dc93900d2af"
      },
      "outputs": [
        {
          "output_type": "stream",
          "name": "stderr",
          "text": [
            "/tmp/ipython-input-1727351289.py:33: UserWarning: Glyph 24179 (\\N{CJK UNIFIED IDEOGRAPH-5E73}) missing from font(s) DejaVu Sans.\n",
            "  plt.savefig('regression_plot.png', dpi=300)\n",
            "/tmp/ipython-input-1727351289.py:33: UserWarning: Glyph 22343 (\\N{CJK UNIFIED IDEOGRAPH-5747}) missing from font(s) DejaVu Sans.\n",
            "  plt.savefig('regression_plot.png', dpi=300)\n",
            "/tmp/ipython-input-1727351289.py:33: UserWarning: Glyph 20540 (\\N{CJK UNIFIED IDEOGRAPH-503C}) missing from font(s) DejaVu Sans.\n",
            "  plt.savefig('regression_plot.png', dpi=300)\n",
            "/tmp/ipython-input-1727351289.py:33: UserWarning: Glyph 22238 (\\N{CJK UNIFIED IDEOGRAPH-56DE}) missing from font(s) DejaVu Sans.\n",
            "  plt.savefig('regression_plot.png', dpi=300)\n",
            "/tmp/ipython-input-1727351289.py:33: UserWarning: Glyph 27512 (\\N{CJK UNIFIED IDEOGRAPH-6B78}) missing from font(s) DejaVu Sans.\n",
            "  plt.savefig('regression_plot.png', dpi=300)\n",
            "/tmp/ipython-input-1727351289.py:33: UserWarning: Glyph 30452 (\\N{CJK UNIFIED IDEOGRAPH-76F4}) missing from font(s) DejaVu Sans.\n",
            "  plt.savefig('regression_plot.png', dpi=300)\n",
            "/tmp/ipython-input-1727351289.py:33: UserWarning: Glyph 32218 (\\N{CJK UNIFIED IDEOGRAPH-7DDA}) missing from font(s) DejaVu Sans.\n",
            "  plt.savefig('regression_plot.png', dpi=300)\n",
            "/tmp/ipython-input-1727351289.py:33: UserWarning: Glyph 33287 (\\N{CJK UNIFIED IDEOGRAPH-8207}) missing from font(s) DejaVu Sans.\n",
            "  plt.savefig('regression_plot.png', dpi=300)\n",
            "/tmp/ipython-input-1727351289.py:33: UserWarning: Glyph 36039 (\\N{CJK UNIFIED IDEOGRAPH-8CC7}) missing from font(s) DejaVu Sans.\n",
            "  plt.savefig('regression_plot.png', dpi=300)\n",
            "/tmp/ipython-input-1727351289.py:33: UserWarning: Glyph 26009 (\\N{CJK UNIFIED IDEOGRAPH-6599}) missing from font(s) DejaVu Sans.\n",
            "  plt.savefig('regression_plot.png', dpi=300)\n",
            "/tmp/ipython-input-1727351289.py:33: UserWarning: Glyph 25955 (\\N{CJK UNIFIED IDEOGRAPH-6563}) missing from font(s) DejaVu Sans.\n",
            "  plt.savefig('regression_plot.png', dpi=300)\n",
            "/tmp/ipython-input-1727351289.py:33: UserWarning: Glyph 20296 (\\N{CJK UNIFIED IDEOGRAPH-4F48}) missing from font(s) DejaVu Sans.\n",
            "  plt.savefig('regression_plot.png', dpi=300)\n",
            "/tmp/ipython-input-1727351289.py:33: UserWarning: Glyph 22294 (\\N{CJK UNIFIED IDEOGRAPH-5716}) missing from font(s) DejaVu Sans.\n",
            "  plt.savefig('regression_plot.png', dpi=300)\n",
            "/tmp/ipython-input-1727351289.py:33: UserWarning: Glyph 35264 (\\N{CJK UNIFIED IDEOGRAPH-89C0}) missing from font(s) DejaVu Sans.\n",
            "  plt.savefig('regression_plot.png', dpi=300)\n",
            "/tmp/ipython-input-1727351289.py:33: UserWarning: Glyph 28204 (\\N{CJK UNIFIED IDEOGRAPH-6E2C}) missing from font(s) DejaVu Sans.\n",
            "  plt.savefig('regression_plot.png', dpi=300)\n"
          ]
        },
        {
          "output_type": "display_data",
          "data": {
            "text/plain": [
              "<Figure size 800x500 with 1 Axes>"
            ],
            "image/png": "[encoded data removed]"
          },
          "metadata": {}
        },
        {
          "output_type": "stream",
          "name": "stdout",
          "text": [
            "圖檔已儲存為 regression_plot.png\n"
          ]
        }
      ],
      "source": [
        "import numpy as np\n",
        "import matplotlib.pyplot as plt\n",
        "\n",
        "# 假設已有以下變數（前面步驟的結果）\n",
        "x = np.array([49.5,49,48.5,48,47.5,-49.5,-49,-48.5,-48,-47.5])\n",
        "row_mean = np.array([14.6875,22.85,29.75,33.6875,36.75,26.625,31.8125,37.125,56.9375,65.15])\n",
        "\n",
        "G = np.column_stack((np.ones_like(x), x))\n",
        "d = row_mean\n",
        "\n",
        "# 計算回歸參數\n",
        "m = np.linalg.inv(G.T @ G) @ G.T @ d\n",
        "\n",
        "# 計算預測值\n",
        "y_pred = m[0] + m[1] * x\n",
        "\n",
        "# 計算 R^2\n",
        "rss = np.sum((row_mean - y_pred)**2)\n",
        "tss = np.sum((row_mean - np.mean(row_mean))**2)\n",
        "R2 = 1 - rss / tss\n",
        "\n",
        "# 繪圖\n",
        "plt.figure(figsize=(8,5))\n",
        "plt.scatter(x, row_mean, color='blue', label='觀測資料')\n",
        "plt.plot(x, y_pred, color='red', label='回歸直線')\n",
        "plt.title(f\"回歸直線與資料散佈圖 (R² = {R2:.4f})\")\n",
        "plt.xlabel('x')\n",
        "plt.ylabel('y (平均值)')\n",
        "plt.legend()\n",
        "plt.grid(True)\n",
        "\n",
        "# 儲存成 PNG 檔案\n",
        "plt.savefig('regression_plot.png', dpi=300)\n",
        "plt.show()\n",
        "\n",
        "print(\"圖檔已儲存為 regression_plot.png\")\n"
      ]
    },
    {
      "cell_type": "markdown",
      "id": "62487bd3-faf8-4485-b4bc-02868a4b4899",
      "metadata": {
        "id": "62487bd3-faf8-4485-b4bc-02868a4b4899"
      },
      "source": [
        "## step final 上面散佈圖中的最適直線代表什麼意思，請以註解的方式輸入在下一格"
      ]
    },
    {
      "cell_type": "code",
      "execution_count": 16,
      "id": "16021335-6a1e-44ee-9891-42e451677957",
      "metadata": {
        "id": "16021335-6a1e-44ee-9891-42e451677957"
      },
      "outputs": [],
      "source": [
        "# 此圖中的紅色直線是基於最小平方誤差法擬合出的線性回歸模型，表示 x 和 y 之間的線性關係。\n",
        "# 然而，R² 值為 0.3056，顯示出這條線性擬合的解釋能力較低，數據的變化無法很好地用直線來描述。\n",
        "# 這表示數據可能呈現非線性關係或需要更複雜的模型來解釋。"
      ]
    }
  ],
  "metadata": {
    "kernelspec": {
      "display_name": "Python 3 (ipykernel)",
      "language": "python",
      "name": "python3"
    },
    "language_info": {
      "codemirror_mode": {
        "name": "ipython",
        "version": 3
      },
      "file_extension": ".py",
      "mimetype": "text/x-python",
      "name": "python",
      "nbconvert_exporter": "python",
      "pygments_lexer": "ipython3",
      "version": "3.9.13"
    },
    "colab": {
      "provenance": [],
      "include_colab_link": true
    }
  },
  "nbformat": 4,
  "nbformat_minor": 5
}